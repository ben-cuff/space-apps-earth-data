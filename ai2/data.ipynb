{
 "cells": [
  {
   "cell_type": "code",
   "execution_count": 1,
   "id": "035f8192",
   "metadata": {},
   "outputs": [],
   "source": [
    "# pip install earthaccess"
   ]
  },
  {
   "cell_type": "code",
   "execution_count": 2,
   "id": "c22f7c9f",
   "metadata": {},
   "outputs": [],
   "source": [
    "# pip install xarray"
   ]
  },
  {
   "cell_type": "code",
   "execution_count": 9,
   "id": "377c531a",
   "metadata": {},
   "outputs": [
    {
     "data": {
      "text/plain": [
       "<earthaccess.auth.Auth at 0x1e13a31c850>"
      ]
     },
     "execution_count": 9,
     "metadata": {},
     "output_type": "execute_result"
    }
   ],
   "source": [
    "import earthaccess\n",
    "import xarray as xr\n",
    "\n",
    "# Authenticate\n",
    "earthaccess.login()"
   ]
  },
  {
   "cell_type": "code",
   "execution_count": 10,
   "id": "7541c551",
   "metadata": {},
   "outputs": [],
   "source": [
    "# Search for datasets\n",
    "no2_results = earthaccess.search_data(\n",
    "    short_name='TEMPO_NO2_L3',\n",
    "    cloud_hosted=True,\n",
    "    count=5\n",
    ")\n",
    "\n",
    "hcho_results = earthaccess.search_data(\n",
    "    short_name='TEMPO_HCHO_L3', \n",
    "    cloud_hosted=True,\n",
    "    count=5\n",
    ")\n",
    "\n",
    "ozone_results = earthaccess.search_data(\n",
    "    short_name='TEMPO_O3TOT_L3',  # Total ozone\n",
    "    cloud_hosted=True,\n",
    "    count=5\n",
    ")\n",
    "\n",
    "radiance_results = earthaccess.search_data(\n",
    "    short_name='TEMPO_RAD_L1',\n",
    "    cloud_hosted=True,\n",
    "    count=5\n",
    ")\n"
   ]
  },
  {
   "cell_type": "code",
   "execution_count": 5,
   "id": "827bd8fb",
   "metadata": {},
   "outputs": [],
   "source": [
    "# !pip install earthaccess xarray h5netcdf h5py netcdf4 pandas matplotlib\n"
   ]
  },
  {
   "cell_type": "code",
   "execution_count": 6,
   "id": "ee85f053",
   "metadata": {},
   "outputs": [],
   "source": [
    "# pip install --upgrade h5netcdf h5py"
   ]
  },
  {
   "cell_type": "code",
   "execution_count": 7,
   "id": "0742eeac",
   "metadata": {},
   "outputs": [
    {
     "name": "stdout",
     "output_type": "stream",
     "text": [
      "🌍 TEMPO NO2 Data Files (Subset)\n",
      "========================================\n",
      "Found 5 total files, showing first 3:\n",
      "\n",
      " File_Number      Dataset Title Size_MB\n",
      "           1 TEMPO_NO2_L3   N/A Unknown\n",
      "           2 TEMPO_NO2_L3   N/A Unknown\n",
      "           3 TEMPO_NO2_L3   N/A Unknown\n"
     ]
    }
   ],
   "source": [
    "import pandas as pd\n",
    "\n",
    "# Simple subset extraction - just basic info from the first few results\n",
    "file_data = []\n",
    "\n",
    "# Extract basic info from just the NO2 results (first dataset)\n",
    "print(\"🌍 TEMPO NO2 Data Files (Subset)\")\n",
    "print(\"=\" * 40)\n",
    "\n",
    "if 'no2_results' in locals() and no2_results:\n",
    "    for i, result in enumerate(no2_results[:3]):  # Only first 3 files\n",
    "        file_info = {\n",
    "            'File_Number': i + 1,\n",
    "            'Dataset': 'TEMPO_NO2_L3',\n",
    "            'Title': result.get('title', 'N/A')[:50] + '...' if len(str(result.get('title', 'N/A'))) > 50 else result.get('title', 'N/A'),\n",
    "            'Size_MB': round(result.get('file_size', 0) / (1024*1024), 2) if result.get('file_size') else 'Unknown'\n",
    "        }\n",
    "        file_data.append(file_info)\n",
    "    \n",
    "    # Create and display DataFrame\n",
    "    df = pd.DataFrame(file_data)\n",
    "    print(f\"Found {len(no2_results)} total files, showing first {len(df)}:\")\n",
    "    print()\n",
    "    print(df.to_string(index=False))\n",
    "    \n",
    "else:\n",
    "    print(\"❌ No NO2 results available. Please run the search cell first.\")\n",
    "    print(\"Available variables:\", [var for var in locals().keys() if not var.startswith('_')])"
   ]
  },
  {
   "cell_type": "code",
   "execution_count": 8,
   "id": "780b9c46",
   "metadata": {},
   "outputs": [],
   "source": [
    "# import pandas as pd\n",
    "# from datetime import datetime\n",
    "\n",
    "# # Create a list to store file information\n",
    "# file_data = []\n",
    "\n",
    "# # Helper function to extract file information\n",
    "# def extract_file_info(results, dataset_name):\n",
    "#     for result in results:\n",
    "#         file_info = {\n",
    "#             'Dataset': dataset_name,\n",
    "#             'Filename': result.get('title', 'N/A'),\n",
    "#             'Size_MB': round(result.get('file_size', 0) / (1024*1024), 2) if result.get('file_size') else 'N/A',\n",
    "#             'Date': result.get('time_start', 'N/A'),\n",
    "#             'Provider': result.get('data_center', 'N/A'),\n",
    "#             'Format': result.get('format', 'N/A'),\n",
    "#             'Cloud_Hosted': result.get('cloud_hosted', False)\n",
    "#         }\n",
    "#         file_data.append(file_info)\n",
    "\n",
    "# # Extract information from all search results\n",
    "# extract_file_info(no2_results, 'TEMPO_NO2_L3')\n",
    "# extract_file_info(hcho_results, 'TEMPO_HCHO_L3') \n",
    "# extract_file_info(ozone_results, 'TEMPO_O3TOT_L3')\n",
    "# extract_file_info(radiance_results, 'TEMPO_RAD_L1')\n",
    "\n",
    "# # Create DataFrame\n",
    "# df = pd.DataFrame(file_data)\n",
    "\n",
    "# # Display the DataFrame\n",
    "# print(\"🌍 TEMPO Satellite Data Files\")\n",
    "# print(\"=\" * 60)\n",
    "# print(f\"Total files found: {len(df)}\")\n",
    "# print(\"\\n📊 File Information DataFrame:\")\n",
    "# print(df.to_string(index=False, max_colwidth=50))\n",
    "\n",
    "# # Show summary by dataset\n",
    "# print(\"\\n� Summary by Dataset:\")\n",
    "# summary = df.groupby('Dataset').agg({\n",
    "#     'Filename': 'count',\n",
    "#     'Size_MB': lambda x: f\"{x.sum():.1f}\" if pd.notna(x).any() else 'N/A'\n",
    "# }).rename(columns={'Filename': 'File_Count', 'Size_MB': 'Total_Size_MB'})\n",
    "# print(summary.to_string())"
   ]
  }
 ],
 "metadata": {
  "kernelspec": {
   "display_name": "space-apps-earth-data",
   "language": "python",
   "name": "python3"
  },
  "language_info": {
   "codemirror_mode": {
    "name": "ipython",
    "version": 3
   },
   "file_extension": ".py",
   "mimetype": "text/x-python",
   "name": "python",
   "nbconvert_exporter": "python",
   "pygments_lexer": "ipython3",
   "version": "3.11.9"
  }
 },
 "nbformat": 4,
 "nbformat_minor": 5
}
